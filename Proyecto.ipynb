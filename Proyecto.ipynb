{
  "nbformat": 4,
  "nbformat_minor": 0,
  "metadata": {
    "colab": {
      "provenance": [],
      "authorship_tag": "ABX9TyNJolYxt6qaRhFTeA9fabSr",
      "include_colab_link": true
    },
    "kernelspec": {
      "name": "python3",
      "display_name": "Python 3"
    },
    "language_info": {
      "name": "python"
    }
  },
  "cells": [
    {
      "cell_type": "markdown",
      "metadata": {
        "id": "view-in-github",
        "colab_type": "text"
      },
      "source": [
        "<a href=\"https://colab.research.google.com/github/FranciscaHM/Proyecto/blob/main/Proyecto.ipynb\" target=\"_parent\"><img src=\"https://colab.research.google.com/assets/colab-badge.svg\" alt=\"Open In Colab\"/></a>"
      ]
    },
    {
      "cell_type": "code",
      "execution_count": null,
      "metadata": {
        "colab": {
          "base_uri": "https://localhost:8080/"
        },
        "id": "d8Cv2oF4s1Dq",
        "outputId": "9b98c780-e067-4b83-9758-04ec42306d21"
      },
      "outputs": [
        {
          "output_type": "stream",
          "name": "stdout",
          "text": [
            "Collecting amuse-framework\n",
            "  Downloading amuse_framework-2024.6.0.tar.gz (679 kB)\n",
            "\u001b[2K     \u001b[90m━━━━━━━━━━━━━━━━━━━━━━━━━━━━━━━━━━━━━━━━\u001b[0m \u001b[32m679.2/679.2 kB\u001b[0m \u001b[31m8.5 MB/s\u001b[0m eta \u001b[36m0:00:00\u001b[0m\n",
            "\u001b[?25h  Installing build dependencies ... \u001b[?25l\u001b[?25hdone\n",
            "  Getting requirements to build wheel ... \u001b[?25l\u001b[?25hdone\n",
            "  Preparing metadata (pyproject.toml) ... \u001b[?25l\u001b[?25hdone\n",
            "Requirement already satisfied: setuptools>=41.0.0 in /usr/local/lib/python3.10/dist-packages (from amuse-framework) (75.1.0)\n",
            "Collecting setuptools-scm (from amuse-framework)\n",
            "  Using cached setuptools_scm-8.1.0-py3-none-any.whl.metadata (6.6 kB)\n",
            "Requirement already satisfied: pip>=19.0.0 in /usr/local/lib/python3.10/dist-packages (from amuse-framework) (24.1.2)\n",
            "Requirement already satisfied: wheel>=0.32 in /usr/local/lib/python3.10/dist-packages (from amuse-framework) (0.45.0)\n",
            "Requirement already satisfied: docutils>=0.6 in /usr/local/lib/python3.10/dist-packages (from amuse-framework) (0.21.2)\n",
            "Requirement already satisfied: numpy>=1.2.2 in /usr/local/lib/python3.10/dist-packages (from amuse-framework) (1.26.4)\n",
            "Requirement already satisfied: pytest>=4.0 in /usr/local/lib/python3.10/dist-packages (from amuse-framework) (8.3.3)\n",
            "Requirement already satisfied: h5py>=1.1.0 in /usr/local/lib/python3.10/dist-packages (from amuse-framework) (3.12.1)\n",
            "Requirement already satisfied: iniconfig in /usr/local/lib/python3.10/dist-packages (from pytest>=4.0->amuse-framework) (2.0.0)\n",
            "Requirement already satisfied: packaging in /usr/local/lib/python3.10/dist-packages (from pytest>=4.0->amuse-framework) (24.2)\n",
            "Requirement already satisfied: pluggy<2,>=1.5 in /usr/local/lib/python3.10/dist-packages (from pytest>=4.0->amuse-framework) (1.5.0)\n",
            "Requirement already satisfied: exceptiongroup>=1.0.0rc8 in /usr/local/lib/python3.10/dist-packages (from pytest>=4.0->amuse-framework) (1.2.2)\n",
            "Requirement already satisfied: tomli>=1 in /usr/local/lib/python3.10/dist-packages (from pytest>=4.0->amuse-framework) (2.1.0)\n",
            "Using cached setuptools_scm-8.1.0-py3-none-any.whl (43 kB)\n",
            "Building wheels for collected packages: amuse-framework\n",
            "  Building wheel for amuse-framework (pyproject.toml) ... \u001b[?25l\u001b[?25hdone\n",
            "  Created wheel for amuse-framework: filename=amuse_framework-2024.6.0-py3-none-any.whl size=629897 sha256=f50640a19e8294708cfc3ec6eafca131074fd7d67c2bf06c16ca4927719787e5\n",
            "  Stored in directory: /root/.cache/pip/wheels/96/a7/96/08b4505f65a31c950a9ef03d5cf092aaa1b151d1bdd9b30503\n",
            "Successfully built amuse-framework\n",
            "Installing collected packages: setuptools-scm, amuse-framework\n",
            "Successfully installed amuse-framework-2024.6.0 setuptools-scm-8.1.0\n"
          ]
        }
      ],
      "source": [
        "pip install amuse-framework"
      ]
    },
    {
      "cell_type": "code",
      "source": [
        "import scipy as sp\n",
        "import astropy as ap\n",
        "import pandas as pd\n",
        "import seaborn as cbrn\n",
        "import matplotlib.pyplot as plt\n",
        "from matplotlib.animation import FuncAnimation\n",
        "import numpy as np\n",
        "from amuse.units import units\n",
        "from amuse.io import read_set_from_file\n",
        "from amuse.datamodel import Particles, particles\n",
        "from amuse.lab import read_set_from_file"
      ],
      "metadata": {
        "id": "gLWtm2J5y27i"
      },
      "execution_count": null,
      "outputs": []
    },
    {
      "cell_type": "code",
      "source": [
        "from google.colab import drive\n",
        "drive.mount('/content/drive')"
      ],
      "metadata": {
        "colab": {
          "base_uri": "https://localhost:8080/"
        },
        "id": "EAfG2H1Sy3yQ",
        "outputId": "e2558bb9-6a81-478f-f9a7-cdc3c90d0a1b"
      },
      "execution_count": null,
      "outputs": [
        {
          "output_type": "stream",
          "name": "stdout",
          "text": [
            "Mounted at /content/drive\n"
          ]
        }
      ]
    },
    {
      "cell_type": "markdown",
      "source": [
        "Guardamos los datos en listas."
      ],
      "metadata": {
        "id": "WznDBxDjy9VV"
      }
    },
    {
      "cell_type": "code",
      "source": [
        "#Primero guardamos todos los path.\n",
        "path_carpeta = '/content/drive/MyDrive/sim'\n",
        "stars = []\n",
        "gas = []\n",
        "for i in range(1,91):\n",
        "  stars.append(path_carpeta+f'/stars_{i}')\n",
        "  gas.append(path_carpeta+f'/gas_{i}')\n",
        "\n",
        "#Ahora los abrimos con read_set_from_file y los guardamos en una lista.\n",
        "star_data = []\n",
        "for elemento in stars:\n",
        "  star_data.append(read_set_from_file(filename = elemento, format = 'hdf5'))\n",
        "\n",
        "gas_data = []\n",
        "for elemento in gas:\n",
        "  gas_data.append(read_set_from_file(filename = elemento, format = 'hdf5'))"
      ],
      "metadata": {
        "id": "Aibf6eBny9x_"
      },
      "execution_count": null,
      "outputs": []
    },
    {
      "cell_type": "markdown",
      "source": [
        "Conozcamos los atributos."
      ],
      "metadata": {
        "id": "cyELHjnf0AZL"
      }
    },
    {
      "cell_type": "code",
      "source": [
        "star_data[0].all_attributes()"
      ],
      "metadata": {
        "colab": {
          "base_uri": "https://localhost:8080/"
        },
        "id": "hftIK4szz_ym",
        "outputId": "e6a87326-08b7-434a-91ba-0da8ad485d74"
      },
      "execution_count": null,
      "outputs": [
        {
          "output_type": "execute_result",
          "data": {
            "text/plain": [
              "['key',\n",
              " 'mass',\n",
              " 'potential_in_code',\n",
              " 'radius',\n",
              " 'timestep',\n",
              " 'vx',\n",
              " 'vy',\n",
              " 'vz',\n",
              " 'x',\n",
              " 'y',\n",
              " 'z',\n",
              " 'mass_segregation_Gini_coefficient',\n",
              " 'LagrangianRadii',\n",
              " 'minimum_spanning_tree_length',\n",
              " 'acceleration',\n",
              " 'total_angular_momentum',\n",
              " 'velocity',\n",
              " 'center_of_mass',\n",
              " 'find_closest_particle_to',\n",
              " 'rotate',\n",
              " 'potential',\n",
              " 'potential_energy',\n",
              " 'bound_subset',\n",
              " 'total_momentum',\n",
              " 'densitycentre_coreradius_coredens',\n",
              " 'new_particle_from_cluster_core',\n",
              " 'moment_of_inertia',\n",
              " 'specific_kinetic_energy',\n",
              " 'virial_radius',\n",
              " 'cluster_core',\n",
              " 'potential_energy_in_field',\n",
              " 'get_binaries',\n",
              " 'dynamical_timescale',\n",
              " 'Qparameter',\n",
              " 'center_of_mass_velocity',\n",
              " 'total_mass',\n",
              " 'oblateness',\n",
              " 'distances_squared',\n",
              " 'correlation_dimension',\n",
              " 'binaries',\n",
              " 'mass_segregation_ratio',\n",
              " 'position',\n",
              " 'mass_segregation_from_nearest_neighbour',\n",
              " 'move_to_center',\n",
              " 'total_radius',\n",
              " 'nearest_neighbour',\n",
              " 'kinetic_energy',\n",
              " 'box_counting_dimension',\n",
              " 'angular_momentum',\n",
              " 'thermal_energy',\n",
              " 'natal_kick_velocity',\n",
              " 'add_spin',\n",
              " 'scale_to_standard',\n",
              " 'connected_components']"
            ]
          },
          "metadata": {},
          "execution_count": 5
        }
      ]
    },
    {
      "cell_type": "markdown",
      "source": [
        "Calculamos el centro de masa!"
      ],
      "metadata": {
        "id": "hwPVijotzSdu"
      }
    },
    {
      "cell_type": "code",
      "source": [
        "def r6(particles, indice):\n",
        "  x0 = particles[indice].x\n",
        "  y0 = particles[indice].y\n",
        "  z0 = particles[indice].z\n",
        "  d = ((particles.x-x0)**2+(particles.y-y0)**2+(particles.z-z0)**2).sqrt()\n",
        "  return np.sort(d.value_in(units.parsec))[6]\n",
        "\n",
        "CMs=[]\n",
        "for j in range(0,len(star_data)):\n",
        "  up = 0\n",
        "  down = 0\n",
        "  for i in range(0,len(star_data[j])):\n",
        "    r6i = r6(star_data[j],i)\n",
        "    up += (star_data[j][i].x.value_in(units.parsec), star_data[j][i].y.value_in(units.parsec), star_data[j][i].z.value_in(units.parsec))/r6i**3\n",
        "    down += 1/r6i**3\n",
        "  r = up/down\n",
        "  CMs.append(r)"
      ],
      "metadata": {
        "id": "sjLO4_5UzR_R"
      },
      "execution_count": null,
      "outputs": []
    },
    {
      "cell_type": "code",
      "source": [
        "#Veamos si funciona:\n",
        "xs1= star_data[0].x.value_in(units.m)\n",
        "ys1= star_data[0].y.value_in(units.m)\n",
        "zs1= star_data[0].z.value_in(units.m)\n",
        "\n",
        "xg1= gas_data[0].x.value_in(units.m)\n",
        "yg1= gas_data[0].y.value_in(units.m)\n",
        "zg1= gas_data[0].z.value_in(units.m)\n",
        "\n",
        "centerMs1 = star_data[0].center_of_mass().value_in(units.parsec)\n",
        "centerMg1 = gas_data[0].center_of_mass().value_in(units.parsec)\n",
        "\n",
        "mg1 = gas_data[0].mass.value_in(units.MSun)\n",
        "mTotg1 = gas_data[0].total_mass().value_in(units.MSun)\n",
        "centerMg1 = gas_data[0].center_of_mass().value_in(units.m)\n",
        "segRatMs1 = star_data[0].mass_segregation_ratio()\n",
        "plt.plot(xs1,ys1, '.', color='skyblue')\n",
        "plt.plot(centerMs1[0],segRatMs1, color='blue')\n",
        "plt.plot(centerMs1, color='red')\n",
        "plt.plot(CMs, color='green')\n",
        "plt.legend()\n",
        "plt.show()"
      ],
      "metadata": {
        "colab": {
          "base_uri": "https://localhost:8080/",
          "height": 500
        },
        "id": "l0ed885KTcZg",
        "outputId": "01234ba2-2883-4f4f-def9-63f2dedaf898"
      },
      "execution_count": null,
      "outputs": [
        {
          "output_type": "stream",
          "name": "stderr",
          "text": [
            "WARNING:matplotlib.legend:No artists with labels found to put in legend.  Note that artists whose label start with an underscore are ignored when legend() is called with no argument.\n"
          ]
        },
        {
          "output_type": "display_data",
          "data": {
            "text/plain": [
              "<Figure size 640x480 with 1 Axes>"
            ],
            "image/png": "[encoded data removed]"
          },
          "metadata": {}
        }
      ]
    },
    {
      "cell_type": "markdown",
      "source": [
        "Ahora veamos los potenciales"
      ],
      "metadata": {
        "id": "tZdQMwepN1Eo"
      }
    },
    {
      "cell_type": "code",
      "source": [
        "#gas = read_set_from_file()\n",
        "#stars = read_set_from_file()\n",
        "allList = star_data + gas_data\n",
        "all = particles.ParticlesSuperset(allList) #[gas,stars]\n",
        "\n",
        "#Creamos las máscaras (filtramos la información)\n",
        "key_gas = all.get_intersecting_subset_in(gas_data).key #gas\n",
        "mask_gas = all.get_indices_of_keys(key_gas)\n",
        "key_stars = all.get_intersecting_subset_in(stars).key\n",
        "mask_stars = all.get_indices_of_keys(key_stars)\n",
        "\n",
        "#Calculamos la energía potencial\n",
        "Ep = (all.potential()*all.mass/2)\n",
        "Ep_gas = Ep[mask_gas].sum()\n",
        "Ep_stars = Ep[mask_stars].sum()\n"
      ],
      "metadata": {
        "colab": {
          "base_uri": "https://localhost:8080/",
          "height": 332
        },
        "id": "XFftWxLYJVLr",
        "outputId": "750a9bfe-73f8-44ff-9367-a7959c092d59"
      },
      "execution_count": null,
      "outputs": [
        {
          "output_type": "error",
          "ename": "AmuseException",
          "evalue": "Unable to add a particle, because it was already part of this set.",
          "traceback": [
            "\u001b[0;31m---------------------------------------------------------------------------\u001b[0m",
            "\u001b[0;31mAmuseException\u001b[0m                            Traceback (most recent call last)",
            "\u001b[0;32m<ipython-input-14-2587fdc3358a>\u001b[0m in \u001b[0;36m<cell line: 4>\u001b[0;34m()\u001b[0m\n\u001b[1;32m      2\u001b[0m \u001b[0;31m#stars = read_set_from_file()\u001b[0m\u001b[0;34m\u001b[0m\u001b[0;34m\u001b[0m\u001b[0m\n\u001b[1;32m      3\u001b[0m \u001b[0mallList\u001b[0m \u001b[0;34m=\u001b[0m \u001b[0mstar_data\u001b[0m \u001b[0;34m+\u001b[0m \u001b[0mgas_data\u001b[0m\u001b[0;34m\u001b[0m\u001b[0;34m\u001b[0m\u001b[0m\n\u001b[0;32m----> 4\u001b[0;31m \u001b[0mall\u001b[0m \u001b[0;34m=\u001b[0m \u001b[0mparticles\u001b[0m\u001b[0;34m.\u001b[0m\u001b[0mParticlesSuperset\u001b[0m\u001b[0;34m(\u001b[0m\u001b[0mallList\u001b[0m\u001b[0;34m)\u001b[0m\u001b[0;34m\u001b[0m\u001b[0;34m\u001b[0m\u001b[0m\n\u001b[0m\u001b[1;32m      5\u001b[0m \u001b[0mkey_gas\u001b[0m \u001b[0;34m=\u001b[0m \u001b[0mall\u001b[0m\u001b[0;34m.\u001b[0m\u001b[0mget_intersecting_subset_in\u001b[0m\u001b[0;34m(\u001b[0m\u001b[0mgas_data\u001b[0m\u001b[0;34m)\u001b[0m\u001b[0;34m.\u001b[0m\u001b[0mkey\u001b[0m\u001b[0;34m\u001b[0m\u001b[0;34m\u001b[0m\u001b[0m\n\u001b[1;32m      6\u001b[0m \u001b[0mmask_gas\u001b[0m \u001b[0;34m=\u001b[0m \u001b[0mall\u001b[0m\u001b[0;34m.\u001b[0m\u001b[0mget_indices_of_keys\u001b[0m\u001b[0;34m(\u001b[0m\u001b[0mkey_gas\u001b[0m\u001b[0;34m)\u001b[0m\u001b[0;34m\u001b[0m\u001b[0;34m\u001b[0m\u001b[0m\n",
            "\u001b[0;32m/usr/local/lib/python3.10/dist-packages/amuse/datamodel/particles.py\u001b[0m in \u001b[0;36m__init__\u001b[0;34m(self, particle_sets, index_to_default_set, names)\u001b[0m\n\u001b[1;32m   1556\u001b[0m \u001b[0;34m\u001b[0m\u001b[0m\n\u001b[1;32m   1557\u001b[0m         \u001b[0;32mif\u001b[0m \u001b[0mself\u001b[0m\u001b[0;34m.\u001b[0m\u001b[0mhas_duplicates\u001b[0m\u001b[0;34m(\u001b[0m\u001b[0;34m)\u001b[0m\u001b[0;34m:\u001b[0m\u001b[0;34m\u001b[0m\u001b[0;34m\u001b[0m\u001b[0m\n\u001b[0;32m-> 1558\u001b[0;31m             \u001b[0;32mraise\u001b[0m \u001b[0mexceptions\u001b[0m\u001b[0;34m.\u001b[0m\u001b[0mAmuseException\u001b[0m\u001b[0;34m(\u001b[0m\u001b[0;34m\"Unable to add a particle, because it was already part of this set.\"\u001b[0m\u001b[0;34m)\u001b[0m\u001b[0;34m\u001b[0m\u001b[0;34m\u001b[0m\u001b[0m\n\u001b[0m\u001b[1;32m   1559\u001b[0m \u001b[0;34m\u001b[0m\u001b[0m\n\u001b[1;32m   1560\u001b[0m \u001b[0;34m\u001b[0m\u001b[0m\n",
            "\u001b[0;31mAmuseException\u001b[0m: Unable to add a particle, because it was already part of this set."
          ]
        }
      ]
    },
    {
      "cell_type": "markdown",
      "source": [
        "Estudiamos la pérdida de masa"
      ],
      "metadata": {
        "id": "HumMr4m2OnHh"
      }
    },
    {
      "cell_type": "code",
      "source": [
        "radioVirial = all.virial_radius().as_quantity_in(units.pc)"
      ],
      "metadata": {
        "id": "-o_b-roJOqOg"
      },
      "execution_count": null,
      "outputs": []
    }
  ]
}