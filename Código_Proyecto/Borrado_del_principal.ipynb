{
  "nbformat": 4,
  "nbformat_minor": 0,
  "metadata": {
    "colab": {
      "provenance": []
    },
    "kernelspec": {
      "name": "python3",
      "display_name": "Python 3"
    },
    "language_info": {
      "name": "python"
    }
  },
  "cells": [
    {
      "cell_type": "code",
      "execution_count": null,
      "metadata": {
        "id": "J4LRAhzs0Uy3"
      },
      "outputs": [],
      "source": [
        "particlesIn = {}\n",
        "for j in range(0,len(all_list)):\n",
        "  radios_in=[]\n",
        "  radioVirial = all_list[j].virial_radius().value_in(units.pc)\n",
        "  for i in range(0,len(all_list[j])):\n",
        "    r = (all_list[j][i].x.value_in(units.parsec), all_list[j][i].y.value_in(units.parsec), all_list[j][i].z.value_in(units.parsec))\n",
        "    d_CM = np.sqrt((r[0]-CMs_all[j][0])**2+(r[1]-CMs_all[j][1])**2+(r[2]-CMs_all[j][2])**2)\n",
        "    if d_CM <= 5*radioVirial:\n",
        "      radios_in.append(all_list[j][i])\n",
        "  particlesIn[f'Momento{j}'] = radios_in"
      ]
    },
    {
      "cell_type": "code",
      "source": [
        "#Centro de masa de todo el sistema\n",
        "CMs_all=[]\n",
        "\n",
        "for j in range(0,len(all_list)):\n",
        "  up = 0\n",
        "  down = 0\n",
        "  for i in range(0,len(all_list[j])):\n",
        "    r6i = r6(all_list[j],i)\n",
        "    up += (all_list[j][i].x.value_in(units.parsec), all_list[j][i].y.value_in(units.parsec), all_list[j][i].z.value_in(units.parsec))/r6i**3\n",
        "    down += 1/r6i**3\n",
        "  r = up/down\n",
        "  CMs_all.append(r)"
      ],
      "metadata": {
        "id": "U_-v8KGR0c0M"
      },
      "execution_count": null,
      "outputs": []
    }
  ]
}