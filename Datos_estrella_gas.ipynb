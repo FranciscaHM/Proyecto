{
  "nbformat": 4,
  "nbformat_minor": 0,
  "metadata": {
    "colab": {
      "provenance": [],
      "authorship_tag": "ABX9TyMbiugKn2CVFoRP9IBBgqVE",
      "include_colab_link": true
    },
    "kernelspec": {
      "name": "python3",
      "display_name": "Python 3"
    },
    "language_info": {
      "name": "python"
    }
  },
  "cells": [
    {
      "cell_type": "markdown",
      "metadata": {
        "id": "view-in-github",
        "colab_type": "text"
      },
      "source": [
        "<a href=\"https://colab.research.google.com/github/FranciscaHM/Proyecto/blob/main/Datos_estrella_gas.ipynb\" target=\"_parent\"><img src=\"https://colab.research.google.com/assets/colab-badge.svg\" alt=\"Open In Colab\"/></a>"
      ]
    },
    {
      "cell_type": "code",
      "execution_count": 3,
      "metadata": {
        "id": "ZkvFx4Qd4OF_"
      },
      "outputs": [],
      "source": [
        "import scipy as sp\n",
        "import astropy as ap\n",
        "import pandas as pd\n",
        "import seaborn as cbrn\n",
        "import matplotlib.pyplot as plt\n",
        "from matplotlib.animation import FuncAnimation\n",
        "import numpy as np\n",
        "from amuse.units import units\n",
        "from amuse.io import read_set_from_file"
      ]
    },
    {
      "cell_type": "code",
      "source": [
        "pip install amuse-framework"
      ],
      "metadata": {
        "colab": {
          "base_uri": "https://localhost:8080/"
        },
        "id": "d48h_73b4hhb",
        "outputId": "3171a9c0-4a0b-43ef-cfbb-d3caa78c44a2"
      },
      "execution_count": 2,
      "outputs": [
        {
          "output_type": "stream",
          "name": "stdout",
          "text": [
            "Collecting amuse-framework\n",
            "  Downloading amuse_framework-2024.6.0.tar.gz (679 kB)\n",
            "\u001b[?25l     \u001b[90m━━━━━━━━━━━━━━━━━━━━━━━━━━━━━━━━━━━━━━━━\u001b[0m \u001b[32m0.0/679.2 kB\u001b[0m \u001b[31m?\u001b[0m eta \u001b[36m-:--:--\u001b[0m\r\u001b[2K     \u001b[91m━━━━━━━━━━━━━━━━━━\u001b[0m\u001b[91m╸\u001b[0m\u001b[90m━━━━━━━━━━━━━━━━━━━━━\u001b[0m \u001b[32m317.4/679.2 kB\u001b[0m \u001b[31m9.3 MB/s\u001b[0m eta \u001b[36m0:00:01\u001b[0m\r\u001b[2K     \u001b[90m━━━━━━━━━━━━━━━━━━━━━━━━━━━━━━━━━━━━━━━━\u001b[0m \u001b[32m679.2/679.2 kB\u001b[0m \u001b[31m10.3 MB/s\u001b[0m eta \u001b[36m0:00:00\u001b[0m\n",
            "\u001b[?25h  Installing build dependencies ... \u001b[?25l\u001b[?25hdone\n",
            "  Getting requirements to build wheel ... \u001b[?25l\u001b[?25hdone\n",
            "  Preparing metadata (pyproject.toml) ... \u001b[?25l\u001b[?25hdone\n",
            "Requirement already satisfied: setuptools>=41.0.0 in /usr/local/lib/python3.10/dist-packages (from amuse-framework) (71.0.4)\n",
            "Collecting setuptools-scm (from amuse-framework)\n",
            "  Using cached setuptools_scm-8.1.0-py3-none-any.whl.metadata (6.6 kB)\n",
            "Requirement already satisfied: pip>=19.0.0 in /usr/local/lib/python3.10/dist-packages (from amuse-framework) (24.1.2)\n",
            "Requirement already satisfied: wheel>=0.32 in /usr/local/lib/python3.10/dist-packages (from amuse-framework) (0.44.0)\n",
            "Requirement already satisfied: docutils>=0.6 in /usr/local/lib/python3.10/dist-packages (from amuse-framework) (0.18.1)\n",
            "Requirement already satisfied: numpy>=1.2.2 in /usr/local/lib/python3.10/dist-packages (from amuse-framework) (1.26.4)\n",
            "Requirement already satisfied: pytest>=4.0 in /usr/local/lib/python3.10/dist-packages (from amuse-framework) (7.4.4)\n",
            "Requirement already satisfied: h5py>=1.1.0 in /usr/local/lib/python3.10/dist-packages (from amuse-framework) (3.11.0)\n",
            "Requirement already satisfied: iniconfig in /usr/local/lib/python3.10/dist-packages (from pytest>=4.0->amuse-framework) (2.0.0)\n",
            "Requirement already satisfied: packaging in /usr/local/lib/python3.10/dist-packages (from pytest>=4.0->amuse-framework) (24.1)\n",
            "Requirement already satisfied: pluggy<2.0,>=0.12 in /usr/local/lib/python3.10/dist-packages (from pytest>=4.0->amuse-framework) (1.5.0)\n",
            "Requirement already satisfied: exceptiongroup>=1.0.0rc8 in /usr/local/lib/python3.10/dist-packages (from pytest>=4.0->amuse-framework) (1.2.2)\n",
            "Requirement already satisfied: tomli>=1.0.0 in /usr/local/lib/python3.10/dist-packages (from pytest>=4.0->amuse-framework) (2.0.2)\n",
            "Using cached setuptools_scm-8.1.0-py3-none-any.whl (43 kB)\n",
            "Building wheels for collected packages: amuse-framework\n",
            "  Building wheel for amuse-framework (pyproject.toml) ... \u001b[?25l\u001b[?25hdone\n",
            "  Created wheel for amuse-framework: filename=amuse_framework-2024.6.0-py3-none-any.whl size=629895 sha256=81d255aed3411df5dbd78788cd1362db3ac3323b7bda0c84e439febd2d46523d\n",
            "  Stored in directory: /root/.cache/pip/wheels/96/a7/96/08b4505f65a31c950a9ef03d5cf092aaa1b151d1bdd9b30503\n",
            "Successfully built amuse-framework\n",
            "Installing collected packages: setuptools-scm, amuse-framework\n",
            "Successfully installed amuse-framework-2024.6.0 setuptools-scm-8.1.0\n"
          ]
        }
      ]
    },
    {
      "cell_type": "code",
      "source": [
        "from google.colab import drive\n",
        "drive.mount('/content/drive')"
      ],
      "metadata": {
        "colab": {
          "base_uri": "https://localhost:8080/"
        },
        "id": "uSRJAoqe4srO",
        "outputId": "c2272292-e736-44c2-bab8-407ac358bd9e"
      },
      "execution_count": 4,
      "outputs": [
        {
          "output_type": "stream",
          "name": "stdout",
          "text": [
            "Mounted at /content/drive\n"
          ]
        }
      ]
    },
    {
      "cell_type": "markdown",
      "source": [
        "Empezamos la visualización de datos:"
      ],
      "metadata": {
        "id": "1ShmDUoT4-bm"
      }
    },
    {
      "cell_type": "code",
      "source": [
        "#Primero guardamos todos los datos.\n",
        "path_carpeta = '/content/drive/MyDrive/sim'\n",
        "stars = []\n",
        "gas = []\n",
        "for i in range(1,91):\n",
        "  stars.append(path_carpeta+f'/stars_{i}')\n",
        "  gas.append(path_carpeta+f'/gas_{i}')\n",
        "\n",
        "  #Ahora los abrimos con amuse:\n",
        "  gas_path = '/content/drive/MyDrive/sim/gas_1'\n",
        "  gas_1 = read_set_from_file(filename = gas_path, format = 'hdf5')\n",
        "\n",
        "star_data = []\n",
        "for elemento in stars:\n",
        "  star_data.append(read_set_from_file(filename = elemento, format = 'hdf5'))"
      ],
      "metadata": {
        "id": "jRi-IyB-5BT2"
      },
      "execution_count": 13,
      "outputs": []
    },
    {
      "cell_type": "markdown",
      "source": [],
      "metadata": {
        "id": "NUpOybOH8Qil"
      }
    },
    {
      "cell_type": "code",
      "source": [
        "star{i}"
      ],
      "metadata": {
        "id": "zAig5IDf8Usf"
      },
      "execution_count": null,
      "outputs": []
    },
    {
      "cell_type": "markdown",
      "source": [],
      "metadata": {
        "id": "PeQBStJS8Q68"
      }
    }
  ]
}